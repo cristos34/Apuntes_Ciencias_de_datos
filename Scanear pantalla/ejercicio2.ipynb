{
 "cells": [
  {
   "cell_type": "code",
   "execution_count": 2,
   "metadata": {},
   "outputs": [],
   "source": [
    "#Tener en cuenta las bibliotecas que instalar\n",
    "import pandas as pd\n",
    "import os\n",
    "from selenium import webdriver\n",
    "from selenium.common.exceptions import WebDriverException\n",
    "from selenium.webdriver.common.desired_capabilities import DesiredCapabilities  \n",
    "import time"
   ]
  },
  {
   "cell_type": "code",
   "execution_count": 7,
   "metadata": {},
   "outputs": [],
   "source": [
    "# Cargar el archivo Excel (Ingresar la ruta del excel)\n",
    "df = pd.read_excel(r'C:\\Users\\alekz\\OneDrive\\Desktop\\excelentyc\\actividad\\Casinos.xlsx')\n",
    "pais = input(\"Nombre del pais que se esta verificando: \")\n",
    "\n",
    "# Configuraciones iniciales del webdriver\n",
    "options = webdriver.ChromeOptions()\n",
    "options.add_argument('--ignore-certificate-errors')\n",
    "options.add_argument('--incognito')\n",
    "\n",
    "driver = webdriver.Chrome(options=options)\n",
    "actUrl=[]\n",
    "\n",
    "# Repetir sobre el archivo (importante especificar el nombre de la columna)\n",
    "for index, row in df.iterrows():\n",
    "    # Obtener la URL y el nombre de la carpeta según la columna\n",
    "    url = row['URL']\n",
    "    casino = row['Casino']\n",
    "    carpeta = pais\n",
    "    nombre_archivo = f'{casino}.png'\n",
    "    \n",
    "    # Ruta de guardado de los pantallazos\n",
    "    ruta_carpeta = os.path.join(r'C:\\Users\\alekz\\OneDrive\\Desktop\\excelentyc\\actividad', carpeta)\n",
    "    \n",
    "    # Crear la carpeta si no existe\n",
    "    if not os.path.exists(ruta_carpeta):\n",
    "        os.makedirs(ruta_carpeta)\n",
    "    \n",
    "    # Navegar a la página y tomar el pantallazo\n",
    "    #try:\n",
    "        #driver.get(url)\n",
    "    ruta_archivo = os.path.join(ruta_carpeta, nombre_archivo)\n",
    "    try:\n",
    "        driver.get(url)\n",
    "        actUrl.append(driver.current_url)\n",
    "        driver.save_screenshot(ruta_archivo)\n",
    "    except WebDriverException:\n",
    "        actUrl.append(\"Blocked\")\n",
    "        \n",
    "df['URL Real'] = actUrl\n",
    "df.to_excel(\"output.xlsx\")\n",
    "\"\"\"\n",
    "        try:\n",
    "            print(\"DATRA: \", data)\n",
    "        except TypeError:\n",
    "            print(\"ajdhs\")\n",
    "    except WebDriverException:\n",
    "        print(\"ERR_NAME_NOT_RESOLVED / IP Block\")\"\"\"\n",
    "# Cerrar el webdriver\n",
    "#driver.quit()"
   ]
  }
 ],
 "metadata": {
  "kernelspec": {
   "display_name": "Python 3",
   "language": "python",
   "name": "python3"
  },
  "language_info": {
   "codemirror_mode": {
    "name": "ipython",
    "version": 3
   },
   "file_extension": ".py",
   "mimetype": "text/x-python",
   "name": "python",
   "nbconvert_exporter": "python",
   "pygments_lexer": "ipython3",
   "version": "3.10.-1"
  },
  "orig_nbformat": 4
 },
 "nbformat": 4,
 "nbformat_minor": 2
}
