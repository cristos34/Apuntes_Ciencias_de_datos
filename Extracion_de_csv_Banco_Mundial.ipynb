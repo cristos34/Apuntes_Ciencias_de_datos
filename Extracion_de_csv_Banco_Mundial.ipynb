{
 "cells": [
  {
   "attachments": {},
   "cell_type": "markdown",
   "metadata": {},
   "source": [
    "<h1> Extraer del banco mundial con \"Selenium\" <h1>"
   ]
  },
  {
   "attachments": {},
   "cell_type": "markdown",
   "metadata": {},
   "source": [
    "<h2> Hecho por Santiago <h2>\n",
    "<h4> Permite realizar una descarga en la carpeta de descargas, desde una pagina web, a travez de una Bot con Selenium <h4>"
   ]
  },
  {
   "cell_type": "code",
   "execution_count": 1,
   "metadata": {},
   "outputs": [],
   "source": [
    "#importa la libreria codigo santi, de Chatgpt\n",
    "import time\n",
    "import selenium\n",
    "import pandas as pd\n",
    "import zipfile\n",
    "\n",
    "from selenium import webdriver\n",
    "from selenium.webdriver.common.by import By\n",
    "from selenium.webdriver.support.ui import WebDriverWait\n",
    "from selenium.webdriver.support import expected_conditions as EC"
   ]
  },
  {
   "cell_type": "code",
   "execution_count": 2,
   "metadata": {},
   "outputs": [
    {
     "ename": "SessionNotCreatedException",
     "evalue": "Message: session not created\nfrom no such execution context: loader has changed while resolving nodes\n  (Session info: chrome=115.0.5790.111)\nStacktrace:\nBacktrace:\n\tGetHandleVerifier [0x00007FF648DA4A62+57106]\n\t(No symbol) [0x00007FF648D1CF52]\n\t(No symbol) [0x00007FF648BEE2CB]\n\t(No symbol) [0x00007FF648BF183C]\n\t(No symbol) [0x00007FF648BF3C5F]\n\t(No symbol) [0x00007FF648BF3D50]\n\t(No symbol) [0x00007FF648C4F8EA]\n\t(No symbol) [0x00007FF648C4DF60]\n\t(No symbol) [0x00007FF648C46793]\n\t(No symbol) [0x00007FF648C1CE81]\n\t(No symbol) [0x00007FF648C1E064]\n\tGetHandleVerifier [0x00007FF649054222+2873042]\n\tGetHandleVerifier [0x00007FF6490A6590+3209792]\n\tGetHandleVerifier [0x00007FF64909F3AF+3180639]\n\tGetHandleVerifier [0x00007FF648E35F25+652245]\n\t(No symbol) [0x00007FF648D28618]\n\t(No symbol) [0x00007FF648D247C4]\n\t(No symbol) [0x00007FF648D248BC]\n\t(No symbol) [0x00007FF648D14C33]\n\tBaseThreadInitThunk [0x00007FFD5B7A7614+20]\n\tRtlUserThreadStart [0x00007FFD5C5C26B1+33]\n",
     "output_type": "error",
     "traceback": [
      "\u001b[1;31m---------------------------------------------------------------------------\u001b[0m",
      "\u001b[1;31mSessionNotCreatedException\u001b[0m                Traceback (most recent call last)",
      "Cell \u001b[1;32mIn[2], line 4\u001b[0m\n\u001b[0;32m      1\u001b[0m \u001b[39m# Hecho por santi\u001b[39;00m\n\u001b[0;32m      2\u001b[0m \n\u001b[0;32m      3\u001b[0m \u001b[39m# El Bot desde selenium\u001b[39;00m\n\u001b[1;32m----> 4\u001b[0m driver \u001b[39m=\u001b[39m webdriver\u001b[39m.\u001b[39;49mChrome()\n\u001b[0;32m      5\u001b[0m driver\u001b[39m.\u001b[39mget(\u001b[39m\"\u001b[39m\u001b[39mhttps://datos.bancomundial.org/indicator/SM.POP.TOTL\u001b[39m\u001b[39m\"\u001b[39m)\n\u001b[0;32m      7\u001b[0m button \u001b[39m=\u001b[39m WebDriverWait(driver, \u001b[39m30\u001b[39m)\u001b[39m.\u001b[39muntil(EC\u001b[39m.\u001b[39mpresence_of_element_located((By\u001b[39m.\u001b[39mXPATH, \u001b[39m'\u001b[39m\u001b[39m//*[@id=\u001b[39m\u001b[39m\"\u001b[39m\u001b[39mmainChart\u001b[39m\u001b[39m\"\u001b[39m\u001b[39m]/aside/div/div[2]/div/p/a[1]\u001b[39m\u001b[39m'\u001b[39m)))\n",
      "File \u001b[1;32mc:\\Users\\CAC\\AppData\\Local\\Programs\\Python\\Python311\\Lib\\site-packages\\selenium\\webdriver\\chrome\\webdriver.py:45\u001b[0m, in \u001b[0;36mWebDriver.__init__\u001b[1;34m(self, options, service, keep_alive)\u001b[0m\n\u001b[0;32m     42\u001b[0m service \u001b[39m=\u001b[39m service \u001b[39mif\u001b[39;00m service \u001b[39melse\u001b[39;00m Service()\n\u001b[0;32m     43\u001b[0m options \u001b[39m=\u001b[39m options \u001b[39mif\u001b[39;00m options \u001b[39melse\u001b[39;00m Options()\n\u001b[1;32m---> 45\u001b[0m \u001b[39msuper\u001b[39;49m()\u001b[39m.\u001b[39;49m\u001b[39m__init__\u001b[39;49m(\n\u001b[0;32m     46\u001b[0m     DesiredCapabilities\u001b[39m.\u001b[39;49mCHROME[\u001b[39m\"\u001b[39;49m\u001b[39mbrowserName\u001b[39;49m\u001b[39m\"\u001b[39;49m],\n\u001b[0;32m     47\u001b[0m     \u001b[39m\"\u001b[39;49m\u001b[39mgoog\u001b[39;49m\u001b[39m\"\u001b[39;49m,\n\u001b[0;32m     48\u001b[0m     options,\n\u001b[0;32m     49\u001b[0m     service,\n\u001b[0;32m     50\u001b[0m     keep_alive,\n\u001b[0;32m     51\u001b[0m )\n",
      "File \u001b[1;32mc:\\Users\\CAC\\AppData\\Local\\Programs\\Python\\Python311\\Lib\\site-packages\\selenium\\webdriver\\chromium\\webdriver.py:56\u001b[0m, in \u001b[0;36mChromiumDriver.__init__\u001b[1;34m(self, browser_name, vendor_prefix, options, service, keep_alive)\u001b[0m\n\u001b[0;32m     53\u001b[0m \u001b[39mself\u001b[39m\u001b[39m.\u001b[39mservice\u001b[39m.\u001b[39mstart()\n\u001b[0;32m     55\u001b[0m \u001b[39mtry\u001b[39;00m:\n\u001b[1;32m---> 56\u001b[0m     \u001b[39msuper\u001b[39;49m()\u001b[39m.\u001b[39;49m\u001b[39m__init__\u001b[39;49m(\n\u001b[0;32m     57\u001b[0m         command_executor\u001b[39m=\u001b[39;49mChromiumRemoteConnection(\n\u001b[0;32m     58\u001b[0m             remote_server_addr\u001b[39m=\u001b[39;49m\u001b[39mself\u001b[39;49m\u001b[39m.\u001b[39;49mservice\u001b[39m.\u001b[39;49mservice_url,\n\u001b[0;32m     59\u001b[0m             browser_name\u001b[39m=\u001b[39;49mbrowser_name,\n\u001b[0;32m     60\u001b[0m             vendor_prefix\u001b[39m=\u001b[39;49mvendor_prefix,\n\u001b[0;32m     61\u001b[0m             keep_alive\u001b[39m=\u001b[39;49mkeep_alive,\n\u001b[0;32m     62\u001b[0m             ignore_proxy\u001b[39m=\u001b[39;49moptions\u001b[39m.\u001b[39;49m_ignore_local_proxy,\n\u001b[0;32m     63\u001b[0m         ),\n\u001b[0;32m     64\u001b[0m         options\u001b[39m=\u001b[39;49moptions,\n\u001b[0;32m     65\u001b[0m     )\n\u001b[0;32m     66\u001b[0m \u001b[39mexcept\u001b[39;00m \u001b[39mException\u001b[39;00m:\n\u001b[0;32m     67\u001b[0m     \u001b[39mself\u001b[39m\u001b[39m.\u001b[39mquit()\n",
      "File \u001b[1;32mc:\\Users\\CAC\\AppData\\Local\\Programs\\Python\\Python311\\Lib\\site-packages\\selenium\\webdriver\\remote\\webdriver.py:206\u001b[0m, in \u001b[0;36mWebDriver.__init__\u001b[1;34m(self, command_executor, keep_alive, file_detector, options)\u001b[0m\n\u001b[0;32m    204\u001b[0m \u001b[39mself\u001b[39m\u001b[39m.\u001b[39m_authenticator_id \u001b[39m=\u001b[39m \u001b[39mNone\u001b[39;00m\n\u001b[0;32m    205\u001b[0m \u001b[39mself\u001b[39m\u001b[39m.\u001b[39mstart_client()\n\u001b[1;32m--> 206\u001b[0m \u001b[39mself\u001b[39;49m\u001b[39m.\u001b[39;49mstart_session(capabilities)\n",
      "File \u001b[1;32mc:\\Users\\CAC\\AppData\\Local\\Programs\\Python\\Python311\\Lib\\site-packages\\selenium\\webdriver\\remote\\webdriver.py:290\u001b[0m, in \u001b[0;36mWebDriver.start_session\u001b[1;34m(self, capabilities)\u001b[0m\n\u001b[0;32m    283\u001b[0m \u001b[39m\u001b[39m\u001b[39m\"\"\"Creates a new session with the desired capabilities.\u001b[39;00m\n\u001b[0;32m    284\u001b[0m \n\u001b[0;32m    285\u001b[0m \u001b[39m:Args:\u001b[39;00m\n\u001b[0;32m    286\u001b[0m \u001b[39m - capabilities - a capabilities dict to start the session with.\u001b[39;00m\n\u001b[0;32m    287\u001b[0m \u001b[39m\"\"\"\u001b[39;00m\n\u001b[0;32m    289\u001b[0m caps \u001b[39m=\u001b[39m _create_caps(capabilities)\n\u001b[1;32m--> 290\u001b[0m response \u001b[39m=\u001b[39m \u001b[39mself\u001b[39;49m\u001b[39m.\u001b[39;49mexecute(Command\u001b[39m.\u001b[39;49mNEW_SESSION, caps)[\u001b[39m\"\u001b[39m\u001b[39mvalue\u001b[39m\u001b[39m\"\u001b[39m]\n\u001b[0;32m    291\u001b[0m \u001b[39mself\u001b[39m\u001b[39m.\u001b[39msession_id \u001b[39m=\u001b[39m response\u001b[39m.\u001b[39mget(\u001b[39m\"\u001b[39m\u001b[39msessionId\u001b[39m\u001b[39m\"\u001b[39m)\n\u001b[0;32m    292\u001b[0m \u001b[39mself\u001b[39m\u001b[39m.\u001b[39mcaps \u001b[39m=\u001b[39m response\u001b[39m.\u001b[39mget(\u001b[39m\"\u001b[39m\u001b[39mcapabilities\u001b[39m\u001b[39m\"\u001b[39m)\n",
      "File \u001b[1;32mc:\\Users\\CAC\\AppData\\Local\\Programs\\Python\\Python311\\Lib\\site-packages\\selenium\\webdriver\\remote\\webdriver.py:345\u001b[0m, in \u001b[0;36mWebDriver.execute\u001b[1;34m(self, driver_command, params)\u001b[0m\n\u001b[0;32m    343\u001b[0m response \u001b[39m=\u001b[39m \u001b[39mself\u001b[39m\u001b[39m.\u001b[39mcommand_executor\u001b[39m.\u001b[39mexecute(driver_command, params)\n\u001b[0;32m    344\u001b[0m \u001b[39mif\u001b[39;00m response:\n\u001b[1;32m--> 345\u001b[0m     \u001b[39mself\u001b[39;49m\u001b[39m.\u001b[39;49merror_handler\u001b[39m.\u001b[39;49mcheck_response(response)\n\u001b[0;32m    346\u001b[0m     response[\u001b[39m\"\u001b[39m\u001b[39mvalue\u001b[39m\u001b[39m\"\u001b[39m] \u001b[39m=\u001b[39m \u001b[39mself\u001b[39m\u001b[39m.\u001b[39m_unwrap_value(response\u001b[39m.\u001b[39mget(\u001b[39m\"\u001b[39m\u001b[39mvalue\u001b[39m\u001b[39m\"\u001b[39m, \u001b[39mNone\u001b[39;00m))\n\u001b[0;32m    347\u001b[0m     \u001b[39mreturn\u001b[39;00m response\n",
      "File \u001b[1;32mc:\\Users\\CAC\\AppData\\Local\\Programs\\Python\\Python311\\Lib\\site-packages\\selenium\\webdriver\\remote\\errorhandler.py:229\u001b[0m, in \u001b[0;36mErrorHandler.check_response\u001b[1;34m(self, response)\u001b[0m\n\u001b[0;32m    227\u001b[0m         alert_text \u001b[39m=\u001b[39m value[\u001b[39m\"\u001b[39m\u001b[39malert\u001b[39m\u001b[39m\"\u001b[39m]\u001b[39m.\u001b[39mget(\u001b[39m\"\u001b[39m\u001b[39mtext\u001b[39m\u001b[39m\"\u001b[39m)\n\u001b[0;32m    228\u001b[0m     \u001b[39mraise\u001b[39;00m exception_class(message, screen, stacktrace, alert_text)  \u001b[39m# type: ignore[call-arg]  # mypy is not smart enough here\u001b[39;00m\n\u001b[1;32m--> 229\u001b[0m \u001b[39mraise\u001b[39;00m exception_class(message, screen, stacktrace)\n",
      "\u001b[1;31mSessionNotCreatedException\u001b[0m: Message: session not created\nfrom no such execution context: loader has changed while resolving nodes\n  (Session info: chrome=115.0.5790.111)\nStacktrace:\nBacktrace:\n\tGetHandleVerifier [0x00007FF648DA4A62+57106]\n\t(No symbol) [0x00007FF648D1CF52]\n\t(No symbol) [0x00007FF648BEE2CB]\n\t(No symbol) [0x00007FF648BF183C]\n\t(No symbol) [0x00007FF648BF3C5F]\n\t(No symbol) [0x00007FF648BF3D50]\n\t(No symbol) [0x00007FF648C4F8EA]\n\t(No symbol) [0x00007FF648C4DF60]\n\t(No symbol) [0x00007FF648C46793]\n\t(No symbol) [0x00007FF648C1CE81]\n\t(No symbol) [0x00007FF648C1E064]\n\tGetHandleVerifier [0x00007FF649054222+2873042]\n\tGetHandleVerifier [0x00007FF6490A6590+3209792]\n\tGetHandleVerifier [0x00007FF64909F3AF+3180639]\n\tGetHandleVerifier [0x00007FF648E35F25+652245]\n\t(No symbol) [0x00007FF648D28618]\n\t(No symbol) [0x00007FF648D247C4]\n\t(No symbol) [0x00007FF648D248BC]\n\t(No symbol) [0x00007FF648D14C33]\n\tBaseThreadInitThunk [0x00007FFD5B7A7614+20]\n\tRtlUserThreadStart [0x00007FFD5C5C26B1+33]\n"
     ]
    }
   ],
   "source": [
    "# Hecho por santi\n",
    "\n",
    "# El Bot desde selenium\n",
    "driver = webdriver.Chrome()\n",
    "driver.get(\"https://datos.bancomundial.org/indicator/SM.POP.TOTL\")\n",
    "\n",
    "button = WebDriverWait(driver, 30).until(EC.presence_of_element_located((By.XPATH, '//*[@id=\"mainChart\"]/aside/div/div[2]/div/p/a[1]')))\n",
    "driver.execute_script(\"arguments[0].click();\", button)\n"
   ]
  },
  {
   "attachments": {},
   "cell_type": "markdown",
   "metadata": {},
   "source": [
    "Codigo para Descomprimir el archivo **.Zip** con la libreria **zipfile**"
   ]
  },
  {
   "cell_type": "code",
   "execution_count": 8,
   "metadata": {},
   "outputs": [
    {
     "data": {
      "text/html": [
       "<div>\n",
       "<style scoped>\n",
       "    .dataframe tbody tr th:only-of-type {\n",
       "        vertical-align: middle;\n",
       "    }\n",
       "\n",
       "    .dataframe tbody tr th {\n",
       "        vertical-align: top;\n",
       "    }\n",
       "\n",
       "    .dataframe thead th {\n",
       "        text-align: right;\n",
       "    }\n",
       "</style>\n",
       "<table border=\"1\" class=\"dataframe\">\n",
       "  <thead>\n",
       "    <tr style=\"text-align: right;\">\n",
       "      <th></th>\n",
       "      <th>Country Name</th>\n",
       "      <th>Country Code</th>\n",
       "      <th>Indicator Name</th>\n",
       "      <th>Indicator Code</th>\n",
       "      <th>1960</th>\n",
       "      <th>1961</th>\n",
       "      <th>1962</th>\n",
       "      <th>1963</th>\n",
       "      <th>1964</th>\n",
       "      <th>1965</th>\n",
       "      <th>...</th>\n",
       "      <th>2013</th>\n",
       "      <th>2014</th>\n",
       "      <th>2015</th>\n",
       "      <th>2016</th>\n",
       "      <th>2017</th>\n",
       "      <th>2018</th>\n",
       "      <th>2019</th>\n",
       "      <th>2020</th>\n",
       "      <th>2021</th>\n",
       "      <th>Unnamed: 66</th>\n",
       "    </tr>\n",
       "  </thead>\n",
       "  <tbody>\n",
       "    <tr>\n",
       "      <th>0</th>\n",
       "      <td>Aruba</td>\n",
       "      <td>ABW</td>\n",
       "      <td>Volúmenes internacionales de migrantes, total</td>\n",
       "      <td>SM.POP.TOTL</td>\n",
       "      <td>7893.0</td>\n",
       "      <td>NaN</td>\n",
       "      <td>NaN</td>\n",
       "      <td>NaN</td>\n",
       "      <td>NaN</td>\n",
       "      <td>7677.0</td>\n",
       "      <td>...</td>\n",
       "      <td>NaN</td>\n",
       "      <td>NaN</td>\n",
       "      <td>36114.0</td>\n",
       "      <td>NaN</td>\n",
       "      <td>NaN</td>\n",
       "      <td>NaN</td>\n",
       "      <td>NaN</td>\n",
       "      <td>NaN</td>\n",
       "      <td>NaN</td>\n",
       "      <td>NaN</td>\n",
       "    </tr>\n",
       "  </tbody>\n",
       "</table>\n",
       "<p>1 rows × 67 columns</p>\n",
       "</div>"
      ],
      "text/plain": [
       "  Country Name Country Code                                 Indicator Name  \\\n",
       "0        Aruba          ABW  Volúmenes internacionales de migrantes, total   \n",
       "\n",
       "  Indicator Code    1960  1961  1962  1963  1964    1965  ...  2013  2014  \\\n",
       "0    SM.POP.TOTL  7893.0   NaN   NaN   NaN   NaN  7677.0  ...   NaN   NaN   \n",
       "\n",
       "      2015  2016  2017  2018  2019  2020  2021  Unnamed: 66  \n",
       "0  36114.0   NaN   NaN   NaN   NaN   NaN   NaN          NaN  \n",
       "\n",
       "[1 rows x 67 columns]"
      ]
     },
     "execution_count": 8,
     "metadata": {},
     "output_type": "execute_result"
    }
   ],
   "source": [
    "# Hecho por Cristian\n",
    "DesZip=zipfile.ZipFile(\"subniveles\\API_SM.POP.TOTL_DS2_es_csv_v2_5390800.zip\")\n",
    "ss=pd.read_csv(DesZip.open(\"API_SM.POP.TOTL_DS2_es_csv_v2_5390800.csv\"),engine=\"python\",skiprows=4)\n",
    "ss.head(1)"
   ]
  },
  {
   "attachments": {},
   "cell_type": "markdown",
   "metadata": {},
   "source": [
    "<h1> Descargar librerias <h1>"
   ]
  },
  {
   "cell_type": "code",
   "execution_count": 3,
   "metadata": {},
   "outputs": [],
   "source": [
    "import time\n",
    "import selenium\n",
    "import pandas as pd\n",
    "import os\n",
    "import zipfile\n",
    "import urllib.request\n",
    "\n",
    "#from google.cloud import storage\n",
    "#from google.oauth2 import service_account\n",
    "\n",
    "from selenium import webdriver\n",
    "from selenium.webdriver.common.by import By\n",
    "from selenium.webdriver.support.ui import WebDriverWait\n",
    "from selenium.webdriver.support import expected_conditions as EC"
   ]
  },
  {
   "attachments": {},
   "cell_type": "markdown",
   "metadata": {},
   "source": [
    "<h3> Extraer del banco mundial con \"Selenium\" <h3>\n"
   ]
  },
  {
   "attachments": {},
   "cell_type": "markdown",
   "metadata": {},
   "source": [
    "<h2> Hecho por Alex <h2>\n",
    "<h4> Permite realizar una descarga a una carpeta especifica, desde una pagina web, a travez de una Bot con Selenium <h4>"
   ]
  },
  {
   "cell_type": "code",
   "execution_count": 4,
   "metadata": {},
   "outputs": [
    {
     "ename": "FileNotFoundError",
     "evalue": "[Errno 2] No such file or directory: 'Nueva carpeta\\\\API_SM.POP.TOTL_DS2_es_csv_v2_5390800.zip'",
     "output_type": "error",
     "traceback": [
      "\u001b[1;31m---------------------------------------------------------------------------\u001b[0m",
      "\u001b[1;31mFileNotFoundError\u001b[0m                         Traceback (most recent call last)",
      "Cell \u001b[1;32mIn[4], line 23\u001b[0m\n\u001b[0;32m     20\u001b[0m button\u001b[39m.\u001b[39mclick()\n\u001b[0;32m     21\u001b[0m time\u001b[39m.\u001b[39msleep(\u001b[39m30\u001b[39m) \u001b[39m#--> Espera 30 segundos para continuar con el siguiente scrip\u001b[39;00m\n\u001b[1;32m---> 23\u001b[0m DesZip\u001b[39m=\u001b[39mzipfile\u001b[39m.\u001b[39;49mZipFile(\u001b[39m\"\u001b[39;49m\u001b[39mNueva carpeta\u001b[39;49m\u001b[39m\\\u001b[39;49m\u001b[39mAPI_SM.POP.TOTL_DS2_es_csv_v2_5390800.zip\u001b[39;49m\u001b[39m\"\u001b[39;49m)\n\u001b[0;32m     24\u001b[0m ss\u001b[39m=\u001b[39mpd\u001b[39m.\u001b[39mread_csv(DesZip\u001b[39m.\u001b[39mopen(\u001b[39m\"\u001b[39m\u001b[39mAPI_SM.POP.TOTL_DS2_es_csv_v2_5390800.csv\u001b[39m\u001b[39m\"\u001b[39m),engine\u001b[39m=\u001b[39m\u001b[39m\"\u001b[39m\u001b[39mpython\u001b[39m\u001b[39m\"\u001b[39m,skiprows\u001b[39m=\u001b[39m\u001b[39m4\u001b[39m)\n\u001b[0;32m     25\u001b[0m ss\u001b[39m.\u001b[39mhead(\u001b[39m2\u001b[39m)\n",
      "File \u001b[1;32mc:\\Users\\CAC\\AppData\\Local\\Programs\\Python\\Python311\\Lib\\zipfile.py:1281\u001b[0m, in \u001b[0;36mZipFile.__init__\u001b[1;34m(self, file, mode, compression, allowZip64, compresslevel, strict_timestamps, metadata_encoding)\u001b[0m\n\u001b[0;32m   1279\u001b[0m \u001b[39mwhile\u001b[39;00m \u001b[39mTrue\u001b[39;00m:\n\u001b[0;32m   1280\u001b[0m     \u001b[39mtry\u001b[39;00m:\n\u001b[1;32m-> 1281\u001b[0m         \u001b[39mself\u001b[39m\u001b[39m.\u001b[39mfp \u001b[39m=\u001b[39m io\u001b[39m.\u001b[39;49mopen(file, filemode)\n\u001b[0;32m   1282\u001b[0m     \u001b[39mexcept\u001b[39;00m \u001b[39mOSError\u001b[39;00m:\n\u001b[0;32m   1283\u001b[0m         \u001b[39mif\u001b[39;00m filemode \u001b[39min\u001b[39;00m modeDict:\n",
      "\u001b[1;31mFileNotFoundError\u001b[0m: [Errno 2] No such file or directory: 'Nueva carpeta\\\\API_SM.POP.TOTL_DS2_es_csv_v2_5390800.zip'"
     ]
    }
   ],
   "source": [
    "# Especifica la ruta de la carpeta en la que deseas descargar el archivo\n",
    "#download_dir = os.path.join(os.path.expanduser('~'), r'C:\\Users\\CAC\\Desktop\\nueva\\Nueva carpeta'#--> ,\"creas otra capeta\")\n",
    "download_dir = os.path.join(os.path.expanduser('~'), r'C:\\Users\\CAC\\Desktop\\nueva\\Nueva carpeta')#--> ,\"creas otra capeta\")\n",
    "\n",
    "# Crea una configuración de opciones para el navegador\n",
    "options = webdriver.ChromeOptions() #--> el navegador que se va usar\n",
    "\n",
    "# Especifica la ruta de la carpeta de descargas en las opciones de Chrome\n",
    "prefs = {'download.default_directory': download_dir} \n",
    "options.add_experimental_option('prefs', prefs)\n",
    "\n",
    "# Crea una instancia del navegador con las opciones especificadas\n",
    "driver = webdriver.Chrome(options=options)\n",
    "\n",
    "# Navega a la página y espera a que aparezca el botón de descarga\n",
    "driver.get(\"https://datos.bancomundial.org/indicator/SM.POP.TOTL\")\n",
    "button = WebDriverWait(driver, 30).until(EC.presence_of_element_located((By.XPATH, '//*[@id=\"mainChart\"]/aside/div/div[2]/div/p/a[1]')))\n",
    "\n",
    "# Descarga el archivo en la carpeta especificada y espera a que se complete la descarga\n",
    "button.click()\n",
    "time.sleep(30) #--> Espera 30 segundos para continuar con el siguiente scrip\n",
    "\n",
    "DesZip=zipfile.ZipFile(\"Nueva carpeta\\API_SM.POP.TOTL_DS2_es_csv_v2_5390800.zip\")\n",
    "ss=pd.read_csv(DesZip.open(\"API_SM.POP.TOTL_DS2_es_csv_v2_5390800.csv\"),engine=\"python\",skiprows=4)\n",
    "ss.head(2)"
   ]
  },
  {
   "attachments": {},
   "cell_type": "markdown",
   "metadata": {},
   "source": [
    "<h2> Hecho por Ada <h2>\n",
    "<h4> Permite mover un archivo de una carpeta a otra <h4>"
   ]
  },
  {
   "cell_type": "code",
   "execution_count": null,
   "metadata": {},
   "outputs": [],
   "source": [
    "# Especifica la ruta de la carpeta en la que deseas descargar el archivo\n",
    "download_dir = os.path.join(os.path.expanduser('~'), r'C:\\Users\\CAC\\Desktop\\nueva\\Nueva carpeta')#--> ,\"creas otra capeta\")\n",
    "\n",
    "# Configurar opciones de descarga del archivo\n",
    "options = webdriver.ChromeOptions()\n",
    "prefs = {\"download.default_directory\":download_dir}\n",
    "options.add_experimental_option(\"prefs\", prefs)\n",
    "\n",
    "# Inicializar el navegador y cargar la página\n",
    "driver = webdriver.Chrome(options=options)\n",
    "driver.get(\"https://datos.bancomundial.org/indicator/SM.POP.TOTL\")\n",
    "\n",
    "# Hacer clic en el botón de descarga y todo se desca\n",
    "button = WebDriverWait(driver, 30).until(EC.presence_of_element_located((By.XPATH, '//*[@id=\"mainChart\"]/aside/div/div[2]/div/p/a[1]')))\n",
    "driver.execute_script(\"arguments[0].click();\", button)\n",
    "\n",
    "# Esperar a que el archivo termine de descargarse\n",
    "while True:\n",
    "    if any(filename.endswith(\".zip\") for filename in os.listdir(r\"C:\\Users\\ADA\\Desktop\\PF2\")):\n",
    "        break\n",
    "\n",
    "# Obtener la URL del archivo descargado\n",
    "url = driver.current_url + \"&download=Y\""
   ]
  },
  {
   "cell_type": "code",
   "execution_count": null,
   "metadata": {},
   "outputs": [],
   "source": [
    "# Descargar el archivo\n",
    "archivo_descargado = urllib.request.urlretrieve(url, r\"C:\\Users\\ADA\\Desktop\\PF2/API_SM.POP.TOTL_DS2_es_csv_v2_5390800.zip\")\n",
    "\n",
    "# Cerrar el navegador\n",
    "driver.quit()"
   ]
  }
 ],
 "metadata": {
  "kernelspec": {
   "display_name": "Python 3",
   "language": "python",
   "name": "python3"
  },
  "language_info": {
   "codemirror_mode": {
    "name": "ipython",
    "version": 3
   },
   "file_extension": ".py",
   "mimetype": "text/x-python",
   "name": "python",
   "nbconvert_exporter": "python",
   "pygments_lexer": "ipython3",
   "version": "3.11.1"
  },
  "orig_nbformat": 4
 },
 "nbformat": 4,
 "nbformat_minor": 2
}
